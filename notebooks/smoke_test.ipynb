{
 "cells": [
  {
   "cell_type": "code",
   "execution_count": 2,
   "id": "2b186bf2",
   "metadata": {},
   "outputs": [
    {
     "name": "stderr",
     "output_type": "stream",
     "text": [
      "/var/folders/_k/vz2j75gs0qn0vgz36qhgd63m0000gn/T/ipykernel_90210/3628977295.py:5: FutureWarning: YF.download() has changed argument auto_adjust default to True\n",
      "  spy = yf.download(\"SPY\", period=\"1mo\", interval=\"1d\")\n",
      "[*********************100%***********************]  1 of 1 completed"
     ]
    },
    {
     "name": "stdout",
     "output_type": "stream",
     "text": [
      "Price            Close        High         Low        Open    Volume\n",
      "Ticker             SPY         SPY         SPY         SPY       SPY\n",
      "Date                                                                \n",
      "2025-08-13  644.890015  646.190002  642.679993  644.909973  60092800\n",
      "2025-08-14  644.950012  645.619995  642.340027  642.789978  59327500\n",
      "2025-08-15  643.440002  646.090027  642.520020  645.989990  68592500\n",
      "2025-08-18  643.299988  644.000000  642.179993  642.859985  43804900\n",
      "2025-08-19  639.809998  644.109985  638.479980  643.119995  69750700\n",
      "Price            Close Daily Return\n",
      "Ticker             SPY             \n",
      "Date                               \n",
      "2025-08-13  644.890015          NaN\n",
      "2025-08-14  644.950012     0.000093\n",
      "2025-08-15  643.440002    -0.002341\n",
      "2025-08-18  643.299988    -0.000218\n",
      "2025-08-19  639.809998    -0.005425\n"
     ]
    },
    {
     "name": "stderr",
     "output_type": "stream",
     "text": [
      "\n"
     ]
    }
   ],
   "source": [
    "import yfinance as yf\n",
    "import pandas as pd\n",
    "\n",
    "# Download 1 month of SPY data\n",
    "spy = yf.download(\"SPY\", period=\"1mo\", interval=\"1d\")\n",
    "\n",
    "# Show first few rows\n",
    "print(spy.head())\n",
    "\n",
    "# Compute daily returns\n",
    "spy['Daily Return'] = spy['Close'].pct_change()\n",
    "print(spy[['Close', 'Daily Return']].head())\n"
   ]
  }
 ],
 "metadata": {
  "kernelspec": {
   "display_name": ".venv",
   "language": "python",
   "name": "python3"
  },
  "language_info": {
   "codemirror_mode": {
    "name": "ipython",
    "version": 3
   },
   "file_extension": ".py",
   "mimetype": "text/x-python",
   "name": "python",
   "nbconvert_exporter": "python",
   "pygments_lexer": "ipython3",
   "version": "3.9.6"
  }
 },
 "nbformat": 4,
 "nbformat_minor": 5
}
