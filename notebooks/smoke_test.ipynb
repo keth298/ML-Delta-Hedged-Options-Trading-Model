{
 "cells": [
  {
   "cell_type": "code",
   "execution_count": 3,
   "id": "2b186bf2",
   "metadata": {},
   "outputs": [
    {
     "name": "stderr",
     "output_type": "stream",
     "text": [
      "/var/folders/_k/vz2j75gs0qn0vgz36qhgd63m0000gn/T/ipykernel_91576/3628977295.py:5: FutureWarning: YF.download() has changed argument auto_adjust default to True\n",
      "  spy = yf.download(\"SPY\", period=\"1mo\", interval=\"1d\")\n",
      "[*********************100%***********************]  1 of 1 completed"
     ]
    },
    {
     "name": "stdout",
     "output_type": "stream",
     "text": [
      "Price            Close        High         Low        Open    Volume\n",
      "Ticker             SPY         SPY         SPY         SPY       SPY\n",
      "Date                                                                \n",
      "2025-08-18  643.299988  644.000000  642.179993  642.859985  43804900\n",
      "2025-08-19  639.809998  644.109985  638.479980  643.119995  69750700\n",
      "2025-08-20  638.109985  639.659973  632.950012  639.400024  88890300\n",
      "2025-08-21  635.549988  637.969971  633.809998  636.280029  54805800\n",
      "2025-08-22  645.309998  646.500000  637.250000  637.760010  84083200\n",
      "Price            Close Daily Return\n",
      "Ticker             SPY             \n",
      "Date                               \n",
      "2025-08-18  643.299988          NaN\n",
      "2025-08-19  639.809998    -0.005425\n",
      "2025-08-20  638.109985    -0.002657\n",
      "2025-08-21  635.549988    -0.004012\n",
      "2025-08-22  645.309998     0.015357\n"
     ]
    },
    {
     "name": "stderr",
     "output_type": "stream",
     "text": [
      "\n"
     ]
    }
   ],
   "source": [
    "import yfinance as yf\n",
    "import pandas as pd\n",
    "\n",
    "# Download 1 month of SPY data\n",
    "spy = yf.download(\"SPY\", period=\"1mo\", interval=\"1d\")\n",
    "\n",
    "# Show first few rows\n",
    "print(spy.head())\n",
    "\n",
    "# Compute daily returns\n",
    "spy['Daily Return'] = spy['Close'].pct_change()\n",
    "print(spy[['Close', 'Daily Return']].head())\n"
   ]
  }
 ],
 "metadata": {
  "kernelspec": {
   "display_name": ".venv",
   "language": "python",
   "name": "python3"
  },
  "language_info": {
   "codemirror_mode": {
    "name": "ipython",
    "version": 3
   },
   "file_extension": ".py",
   "mimetype": "text/x-python",
   "name": "python",
   "nbconvert_exporter": "python",
   "pygments_lexer": "ipython3",
   "version": "3.9.6"
  }
 },
 "nbformat": 4,
 "nbformat_minor": 5
}
